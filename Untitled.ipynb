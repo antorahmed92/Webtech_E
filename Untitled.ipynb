{
 "cells": [
  {
   "cell_type": "code",
   "execution_count": 1,
   "id": "08997c79",
   "metadata": {},
   "outputs": [
    {
     "ename": "SyntaxError",
     "evalue": "invalid syntax (2022302095.py, line 9)",
     "output_type": "error",
     "traceback": [
      "\u001b[0;36m  File \u001b[0;32m\"/var/folders/zc/p4vdn3f57vnb8gnz5rwcmnsm0000gn/T/ipykernel_1338/2022302095.py\"\u001b[0;36m, line \u001b[0;32m9\u001b[0m\n\u001b[0;31m    In [2]:\u001b[0m\n\u001b[0m           ^\u001b[0m\n\u001b[0;31mSyntaxError\u001b[0m\u001b[0;31m:\u001b[0m invalid syntax\n"
     ]
    }
   ],
   "source": [
    "import tensorflow as tf\n",
    "from tensorflow import keras\n",
    "from tensorflow.keras import layers\n",
    "from tensorflow.keras.datasets import mnist\n",
    "\n",
    "import random\n",
    "import numpy as np\n",
    "import matplotlib.pyplot as plt\n",
    "In [2]:\n",
    "(x_train, y_train), (x_test, y_test) = mnist.load_data()\n",
    "print(f\"Shape of x_train: {x_train.shape}\")\n",
    "print(f\"Shape of y_train: {y_train.shape}\")\n",
    "print()\n",
    "print(f\"Shape of x_test: {x_test.shape}\")\n",
    "print(f\"Shape of y_test: {y_test.shape}\")\n",
    "Shape of x_train: (60000, 28, 28)\n",
    "Shape of y_train: (60000,)\n",
    "\n",
    "Shape of x_test: (10000, 28, 28)\n",
    "Shape of y_test: (10000,)\n",
    "In [3]:\n",
    "i = 0\n",
    "plt.figure(figsize=(10,8))\n",
    "for i in range(80):\n",
    "    plt.subplot(10,8, i+1)\n",
    "    plt.imshow(x_train[i], cmap=plt.cm.gray_r)\n",
    "        \n",
    "    plt.xticks([])\n",
    "    plt.yticks([])\n",
    "    plt.xlabel(y_train[i])\n",
    "plt.tight_layout()\n",
    "plt.show()\n"
   ]
  },
  {
   "cell_type": "code",
   "execution_count": null,
   "id": "9110bd28",
   "metadata": {},
   "outputs": [],
   "source": []
  }
 ],
 "metadata": {
  "kernelspec": {
   "display_name": "Python 3 (ipykernel)",
   "language": "python",
   "name": "python3"
  },
  "language_info": {
   "codemirror_mode": {
    "name": "ipython",
    "version": 3
   },
   "file_extension": ".py",
   "mimetype": "text/x-python",
   "name": "python",
   "nbconvert_exporter": "python",
   "pygments_lexer": "ipython3",
   "version": "3.9.7"
  }
 },
 "nbformat": 4,
 "nbformat_minor": 5
}
